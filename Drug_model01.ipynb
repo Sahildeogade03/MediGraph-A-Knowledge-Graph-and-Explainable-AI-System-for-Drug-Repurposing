{
 "cells": [
  {
   "cell_type": "markdown",
   "id": "0fb5c28c",
   "metadata": {},
   "source": [
    "**Imports and Initial Setup**"
   ]
  },
  {
   "cell_type": "code",
   "execution_count": 1,
   "id": "40cae012",
   "metadata": {},
   "outputs": [
    {
     "name": "stdout",
     "output_type": "stream",
     "text": [
      "Using device: cuda\n",
      "Device name: NVIDIA GeForce RTX 3050 Laptop GPU\n"
     ]
    }
   ],
   "source": [
    "import pandas as pd\n",
    "import torch\n",
    "from neo4j import GraphDatabase\n",
    "from torch_geometric.data import HeteroData\n",
    "from torch_geometric.nn import HANConv\n",
    "from sklearn.model_selection import train_test_split\n",
    "from sklearn.metrics import roc_auc_score, roc_curve\n",
    "from rdkit import Chem\n",
    "from rdkit.Chem import AllChem\n",
    "import numpy as np\n",
    "from tqdm import tqdm\n",
    "import pickle\n",
    "from itertools import product\n",
    "import matplotlib.pyplot as plt\n",
    "\n",
    "# Check CUDA availability\n",
    "device = torch.device('cuda' if torch.cuda.is_available() else 'cpu')\n",
    "print(f\"Using device: {device}\")\n",
    "print(f\"Device name: {torch.cuda.get_device_name(0) if torch.cuda.is_available() else 'CPU'}\")\n",
    "\n",
    "# Neo4j AuraDB connection\n",
    "URI = \"neo4j+s://b09f418b.databases.neo4j.io\"\n",
    "USERNAME = \"neo4j\"\n",
    "PASSWORD = \"Y9-UEMVWae0ISwDFsKFAtLczklxpSgOKZfKRyyI-mDY\"\n",
    "driver = GraphDatabase.driver(URI, auth=(USERNAME, PASSWORD))"
   ]
  },
  {
   "cell_type": "markdown",
   "id": "7048c481",
   "metadata": {},
   "source": [
    "**Fetch Graph Data with Relevant Relationships**"
   ]
  },
  {
   "cell_type": "code",
   "execution_count": 2,
   "id": "45243a3a",
   "metadata": {},
   "outputs": [],
   "source": [
    "def fetch_graph_data():\n",
    "    with driver.session() as session:\n",
    "        # Fetch all nodes\n",
    "        nodes_query = \"MATCH (n) RETURN elementId(n) AS id, labels(n) AS labels, properties(n) AS props\"\n",
    "        nodes_result = session.run(nodes_query)\n",
    "        nodes = [(record[\"id\"], record[\"labels\"][0], record[\"props\"]) for record in nodes_result]\n",
    "\n",
    "        # Fetch only relevant relationships\n",
    "        rels_query = \"\"\"\n",
    "        MATCH (a)-[r:TREATS|INVOLVES|ASSOCIATED_WITH]->(b)\n",
    "        RETURN elementId(a) AS source, elementId(b) AS target, type(r) AS type\n",
    "        \"\"\"\n",
    "        rels_result = session.run(rels_query)\n",
    "        relationships = [(record[\"source\"], record[\"target\"], record[\"type\"]) for record in rels_result]\n",
    "    return nodes, relationships\n",
    "\n",
    "nodes, relationships = fetch_graph_data()\n",
    "nodes_df = pd.DataFrame(nodes, columns=[\"id\", \"label\", \"props\"])\n",
    "rels_df = pd.DataFrame(relationships, columns=[\"source\", \"target\", \"type\"])"
   ]
  },
  {
   "cell_type": "code",
   "execution_count": 3,
   "id": "0562e3fe",
   "metadata": {},
   "outputs": [
    {
     "data": {
      "text/html": [
       "<div>\n",
       "<style scoped>\n",
       "    .dataframe tbody tr th:only-of-type {\n",
       "        vertical-align: middle;\n",
       "    }\n",
       "\n",
       "    .dataframe tbody tr th {\n",
       "        vertical-align: top;\n",
       "    }\n",
       "\n",
       "    .dataframe thead th {\n",
       "        text-align: right;\n",
       "    }\n",
       "</style>\n",
       "<table border=\"1\" class=\"dataframe\">\n",
       "  <thead>\n",
       "    <tr style=\"text-align: right;\">\n",
       "      <th></th>\n",
       "      <th>id</th>\n",
       "      <th>label</th>\n",
       "      <th>props</th>\n",
       "    </tr>\n",
       "  </thead>\n",
       "  <tbody>\n",
       "    <tr>\n",
       "      <th>0</th>\n",
       "      <td>4:4e0830d9-7413-4b1e-83ba-e7d830b0a219:0</td>\n",
       "      <td>Drug</td>\n",
       "      <td>{'name': 'ACETAMINOPHEN', 'chembl_id': 'CHEMBL...</td>\n",
       "    </tr>\n",
       "    <tr>\n",
       "      <th>1</th>\n",
       "      <td>4:4e0830d9-7413-4b1e-83ba-e7d830b0a219:1</td>\n",
       "      <td>Drug</td>\n",
       "      <td>{'name': 'NITRIC OXIDE', 'chembl_id': 'CHEMBL1...</td>\n",
       "    </tr>\n",
       "    <tr>\n",
       "      <th>2</th>\n",
       "      <td>4:4e0830d9-7413-4b1e-83ba-e7d830b0a219:2</td>\n",
       "      <td>Drug</td>\n",
       "      <td>{'name': 'DECITABINE', 'chembl_id': 'CHEMBL120...</td>\n",
       "    </tr>\n",
       "    <tr>\n",
       "      <th>3</th>\n",
       "      <td>4:4e0830d9-7413-4b1e-83ba-e7d830b0a219:3</td>\n",
       "      <td>Drug</td>\n",
       "      <td>{'name': 'PRASUGREL', 'chembl_id': 'CHEMBL1201...</td>\n",
       "    </tr>\n",
       "    <tr>\n",
       "      <th>4</th>\n",
       "      <td>4:4e0830d9-7413-4b1e-83ba-e7d830b0a219:4</td>\n",
       "      <td>Drug</td>\n",
       "      <td>{'name': 'LUSPATERCEPT', 'chembl_id': 'CHEMBL3...</td>\n",
       "    </tr>\n",
       "  </tbody>\n",
       "</table>\n",
       "</div>"
      ],
      "text/plain": [
       "                                         id label  \\\n",
       "0  4:4e0830d9-7413-4b1e-83ba-e7d830b0a219:0  Drug   \n",
       "1  4:4e0830d9-7413-4b1e-83ba-e7d830b0a219:1  Drug   \n",
       "2  4:4e0830d9-7413-4b1e-83ba-e7d830b0a219:2  Drug   \n",
       "3  4:4e0830d9-7413-4b1e-83ba-e7d830b0a219:3  Drug   \n",
       "4  4:4e0830d9-7413-4b1e-83ba-e7d830b0a219:4  Drug   \n",
       "\n",
       "                                               props  \n",
       "0  {'name': 'ACETAMINOPHEN', 'chembl_id': 'CHEMBL...  \n",
       "1  {'name': 'NITRIC OXIDE', 'chembl_id': 'CHEMBL1...  \n",
       "2  {'name': 'DECITABINE', 'chembl_id': 'CHEMBL120...  \n",
       "3  {'name': 'PRASUGREL', 'chembl_id': 'CHEMBL1201...  \n",
       "4  {'name': 'LUSPATERCEPT', 'chembl_id': 'CHEMBL3...  "
      ]
     },
     "execution_count": 3,
     "metadata": {},
     "output_type": "execute_result"
    }
   ],
   "source": [
    "nodes_df.head()"
   ]
  },
  {
   "cell_type": "code",
   "execution_count": 4,
   "id": "cb58d504",
   "metadata": {},
   "outputs": [
    {
     "data": {
      "text/html": [
       "<div>\n",
       "<style scoped>\n",
       "    .dataframe tbody tr th:only-of-type {\n",
       "        vertical-align: middle;\n",
       "    }\n",
       "\n",
       "    .dataframe tbody tr th {\n",
       "        vertical-align: top;\n",
       "    }\n",
       "\n",
       "    .dataframe thead th {\n",
       "        text-align: right;\n",
       "    }\n",
       "</style>\n",
       "<table border=\"1\" class=\"dataframe\">\n",
       "  <thead>\n",
       "    <tr style=\"text-align: right;\">\n",
       "      <th></th>\n",
       "      <th>source</th>\n",
       "      <th>target</th>\n",
       "      <th>type</th>\n",
       "    </tr>\n",
       "  </thead>\n",
       "  <tbody>\n",
       "    <tr>\n",
       "      <th>0</th>\n",
       "      <td>4:4e0830d9-7413-4b1e-83ba-e7d830b0a219:289</td>\n",
       "      <td>4:4e0830d9-7413-4b1e-83ba-e7d830b0a219:1423</td>\n",
       "      <td>TREATS</td>\n",
       "    </tr>\n",
       "    <tr>\n",
       "      <th>1</th>\n",
       "      <td>4:4e0830d9-7413-4b1e-83ba-e7d830b0a219:290</td>\n",
       "      <td>4:4e0830d9-7413-4b1e-83ba-e7d830b0a219:1489</td>\n",
       "      <td>TREATS</td>\n",
       "    </tr>\n",
       "    <tr>\n",
       "      <th>2</th>\n",
       "      <td>4:4e0830d9-7413-4b1e-83ba-e7d830b0a219:292</td>\n",
       "      <td>4:4e0830d9-7413-4b1e-83ba-e7d830b0a219:1413</td>\n",
       "      <td>TREATS</td>\n",
       "    </tr>\n",
       "    <tr>\n",
       "      <th>3</th>\n",
       "      <td>4:4e0830d9-7413-4b1e-83ba-e7d830b0a219:292</td>\n",
       "      <td>4:4e0830d9-7413-4b1e-83ba-e7d830b0a219:1466</td>\n",
       "      <td>TREATS</td>\n",
       "    </tr>\n",
       "    <tr>\n",
       "      <th>4</th>\n",
       "      <td>4:4e0830d9-7413-4b1e-83ba-e7d830b0a219:292</td>\n",
       "      <td>4:4e0830d9-7413-4b1e-83ba-e7d830b0a219:1513</td>\n",
       "      <td>TREATS</td>\n",
       "    </tr>\n",
       "  </tbody>\n",
       "</table>\n",
       "</div>"
      ],
      "text/plain": [
       "                                       source  \\\n",
       "0  4:4e0830d9-7413-4b1e-83ba-e7d830b0a219:289   \n",
       "1  4:4e0830d9-7413-4b1e-83ba-e7d830b0a219:290   \n",
       "2  4:4e0830d9-7413-4b1e-83ba-e7d830b0a219:292   \n",
       "3  4:4e0830d9-7413-4b1e-83ba-e7d830b0a219:292   \n",
       "4  4:4e0830d9-7413-4b1e-83ba-e7d830b0a219:292   \n",
       "\n",
       "                                        target    type  \n",
       "0  4:4e0830d9-7413-4b1e-83ba-e7d830b0a219:1423  TREATS  \n",
       "1  4:4e0830d9-7413-4b1e-83ba-e7d830b0a219:1489  TREATS  \n",
       "2  4:4e0830d9-7413-4b1e-83ba-e7d830b0a219:1413  TREATS  \n",
       "3  4:4e0830d9-7413-4b1e-83ba-e7d830b0a219:1466  TREATS  \n",
       "4  4:4e0830d9-7413-4b1e-83ba-e7d830b0a219:1513  TREATS  "
      ]
     },
     "execution_count": 4,
     "metadata": {},
     "output_type": "execute_result"
    }
   ],
   "source": [
    "rels_df.head()"
   ]
  },
  {
   "cell_type": "markdown",
   "id": "89edd8ac",
   "metadata": {},
   "source": [
    "**Enhanced Feature Extraction**"
   ]
  },
  {
   "cell_type": "code",
   "execution_count": 5,
   "id": "489443a1",
   "metadata": {},
   "outputs": [],
   "source": [
    "def extract_features(props_dict, node_id, rels_df):\n",
    "    # Handle SMILES for small molecules or fallback for biologics\n",
    "    if \"smiles\" in props_dict and props_dict[\"smiles\"]:\n",
    "        mol = Chem.MolFromSmiles(props_dict[\"smiles\"])\n",
    "        fp = AllChem.GetMorganFingerprintAsBitVect(mol, 2, nBits=512) if mol else np.zeros(512)\n",
    "        fp_tensor = torch.tensor(np.array(fp), dtype=torch.float32)\n",
    "    else:\n",
    "        # Fallback for biologics with sequence or random noise\n",
    "        fp_tensor = torch.zeros(512, dtype=torch.float32)\n",
    "        if \"sequence\" in props_dict and props_dict[\"sequence\"]:\n",
    "            seq_len = min(len(props_dict[\"sequence\"]), 512)\n",
    "            fp_tensor[:seq_len] = torch.rand(seq_len)  # Add random noise based on sequence length\n",
    "\n",
    "    # Calculate degree based on relevant relationships only\n",
    "    degree = len(rels_df[(rels_df[\"source\"] == node_id) & (rels_df[\"type\"].isin([\"TREATS\", \"INVOLVES\", \"ASSOCIATED_WITH\"]))]) + \\\n",
    "             len(rels_df[(rels_df[\"target\"] == node_id) & (rels_df[\"type\"].isin([\"TREATS\", \"INVOLVES\", \"ASSOCIATED_WITH\"]))])\n",
    "    extra_features = [float(degree)]\n",
    "    for key in [\"trial_count\", \"molecular_weight\", \"value\"]:\n",
    "        extra_features.append(float(props_dict.get(key, 0.0)))\n",
    "    extra_tensor = torch.tensor(extra_features, dtype=torch.float32)\n",
    "\n",
    "    features = torch.cat([fp_tensor, extra_tensor], dim=0)\n",
    "    # Normalize features\n",
    "    features = (features - features.mean()) / (features.std() + 1e-8) if features.std() > 0 else features\n",
    "    return features.to(device)"
   ]
  },
  {
   "cell_type": "markdown",
   "id": "431067f7",
   "metadata": {},
   "source": [
    "**Build HeteroData and Edge Indices**"
   ]
  },
  {
   "cell_type": "code",
   "execution_count": 6,
   "id": "7ebf58bd",
   "metadata": {},
   "outputs": [],
   "source": [
    "# Initialize HeteroData\n",
    "data = HeteroData()\n",
    "type_to_idx = {ntype: {row[\"id\"]: idx for idx, (_, row) in enumerate(nodes_df[nodes_df[\"label\"] == ntype].iterrows())} \n",
    "               for ntype in nodes_df[\"label\"].unique()}\n",
    "\n",
    "for node_type in nodes_df[\"label\"].unique():\n",
    "    type_nodes = nodes_df[nodes_df[\"label\"] == node_type]\n",
    "    features = torch.stack([extract_features(row[\"props\"], row[\"id\"], rels_df) for _, row in type_nodes.iterrows()])\n",
    "    data[node_type].x = features\n",
    "\n",
    "# Build edge indices for relevant relationships\n",
    "edge_dict = {}\n",
    "for _, row in rels_df.iterrows():\n",
    "    src_type = nodes_df[nodes_df[\"id\"] == row[\"source\"]][\"label\"].iloc[0]\n",
    "    tgt_type = nodes_df[nodes_df[\"id\"] == row[\"target\"]][\"label\"].iloc[0]\n",
    "    edge_type = (src_type, row[\"type\"], tgt_type)\n",
    "    src_idx = type_to_idx[src_type][row[\"source\"]]\n",
    "    tgt_idx = type_to_idx[tgt_type][row[\"target\"]]\n",
    "    if edge_type not in edge_dict:\n",
    "        edge_dict[edge_type] = [[], []]\n",
    "    edge_dict[edge_type][0].append(src_idx)\n",
    "    edge_dict[edge_type][1].append(tgt_idx)\n",
    "\n",
    "for edge_type, (src_indices, tgt_indices) in edge_dict.items():\n",
    "    if src_indices and tgt_indices:\n",
    "        data[edge_type].edge_index = torch.tensor([src_indices, tgt_indices], dtype=torch.long).to(device)\n",
    "    else:\n",
    "        data[edge_type].edge_index = torch.zeros((2, 0), dtype=torch.long).to(device)\n",
    "\n",
    "metadata = (list(data.node_types), list(data.edge_types))\n",
    "data.metadata = lambda: metadata"
   ]
  },
  {
   "cell_type": "markdown",
   "id": "3816092a",
   "metadata": {},
   "source": [
    "**Prepare Training Data**"
   ]
  },
  {
   "cell_type": "code",
   "execution_count": 7,
   "id": "eb890afc",
   "metadata": {},
   "outputs": [],
   "source": [
    "# Prepare drug-disease pairs\n",
    "positive_pairs = rels_df[rels_df[\"type\"] == \"TREATS\"]\n",
    "drug_nodes = nodes_df[nodes_df[\"label\"] == \"Drug\"][\"id\"].tolist()\n",
    "disease_nodes = nodes_df[nodes_df[\"label\"] == \"Disease\"][\"id\"].tolist()\n",
    "all_pairs = [(d, dis) for d, dis in product(drug_nodes, disease_nodes)]\n",
    "labels = [1 if len(positive_pairs[(positive_pairs[\"source\"] == d) & (positive_pairs[\"target\"] == dis)]) > 0 else 0 \n",
    "          for d, dis in all_pairs]\n",
    "pos_pairs = [p for p, l in zip(all_pairs, labels) if l == 1]\n",
    "neg_pairs = [p for p, l in zip(all_pairs, labels) if l == 0]\n",
    "neg_pairs_sampled = np.random.choice(len(neg_pairs), len(pos_pairs) * 2, replace=False) if len(neg_pairs) > 0 else []\n",
    "selected_pairs = pos_pairs + [neg_pairs[i] for i in neg_pairs_sampled]\n",
    "selected_labels = [1] * len(pos_pairs) + [0] * len(neg_pairs_sampled)\n",
    "\n",
    "edge_index = torch.tensor(\n",
    "    [[type_to_idx[\"Drug\"][d] for d, _ in selected_pairs], \n",
    "     [type_to_idx[\"Disease\"][dis] for _, dis in selected_pairs]], \n",
    "    dtype=torch.long).to(device)\n",
    "labels = torch.tensor(selected_labels, dtype=torch.float).to(device)\n",
    "\n",
    "# Split data\n",
    "train_idx, temp_idx = train_test_split(range(len(selected_pairs)), test_size=0.4, random_state=42)\n",
    "val_idx, test_idx = train_test_split(temp_idx, test_size=0.5, random_state=42)\n",
    "\n",
    "data[\"Drug\", \"TREATS\", \"Disease\"].train_edge_index = edge_index[:, train_idx]\n",
    "data[\"Drug\", \"TREATS\", \"Disease\"].train_edge_label = labels[train_idx]\n",
    "data[\"Drug\", \"TREATS\", \"Disease\"].val_edge_index = edge_index[:, val_idx]\n",
    "data[\"Drug\", \"TREATS\", \"Disease\"].val_edge_label = labels[val_idx]\n",
    "data[\"Drug\", \"TREATS\", \"Disease\"].test_edge_index = edge_index[:, test_idx]\n",
    "data[\"Drug\", \"TREATS\", \"Disease\"].test_edge_label = labels[test_idx]"
   ]
  },
  {
   "cell_type": "markdown",
   "id": "51d7f5ac",
   "metadata": {},
   "source": [
    "**Define HAN Model**"
   ]
  },
  {
   "cell_type": "code",
   "execution_count": 8,
   "id": "de6824bf",
   "metadata": {},
   "outputs": [],
   "source": [
    "class EnhancedHAN(torch.nn.Module):\n",
    "    def __init__(self, in_channels_dict, hidden_channels, out_channels, metadata):\n",
    "        super(EnhancedHAN, self).__init__()\n",
    "        self.han1 = HANConv(in_channels_dict, hidden_channels, metadata=metadata, heads=4, dropout=0.2)\n",
    "        self.linear_drug = torch.nn.Linear(hidden_channels, out_channels)\n",
    "        self.linear_disease = torch.nn.Linear(hidden_channels, out_channels)\n",
    "        self.residual = torch.nn.Linear(list(in_channels_dict.values())[0], out_channels)\n",
    "        self.node_types = list(in_channels_dict.keys())\n",
    "\n",
    "    def forward(self, x_dict, edge_index_dict, return_attention_weights=False):\n",
    "        device = next(self.parameters()).device\n",
    "        x_in = torch.cat([x_dict[nt] for nt in x_dict], dim=0)\n",
    "\n",
    "        # Single HAN layer\n",
    "        x = self.han1(x_dict, edge_index_dict)\n",
    "        x = {k: torch.relu(v) if v is not None else torch.zeros(x_dict[k].shape[0], self.han1.out_channels, device=device)\n",
    "             for k, v in x.items()}\n",
    "\n",
    "        # Residual and final embeddings\n",
    "        res = torch.relu(self.residual(x_in))[:len(x[\"Drug\"]) + len(x[\"Disease\"])]\n",
    "        drug_emb = self.linear_drug(x[\"Drug\"]) + res[:len(x[\"Drug\"])]\n",
    "        disease_emb = self.linear_disease(x[\"Disease\"]) + res[len(x[\"Drug\"]):]\n",
    "        return drug_emb, disease_emb, None"
   ]
  },
  {
   "cell_type": "markdown",
   "id": "a16a819b",
   "metadata": {},
   "source": [
    "**Model Initialization and Training Setup**"
   ]
  },
  {
   "cell_type": "code",
   "execution_count": 9,
   "id": "418173ff",
   "metadata": {},
   "outputs": [
    {
     "name": "stdout",
     "output_type": "stream",
     "text": [
      "Model Architecture:\n",
      "EnhancedHAN(\n",
      "  (han1): HANConv(256, heads=4)\n",
      "  (linear_drug): Linear(in_features=256, out_features=128, bias=True)\n",
      "  (linear_disease): Linear(in_features=256, out_features=128, bias=True)\n",
      "  (residual): Linear(in_features=516, out_features=128, bias=True)\n",
      ")\n",
      "Model parameters: 1920128\n"
     ]
    }
   ],
   "source": [
    "# Initialize model\n",
    "in_channels_dict = {nt: data[nt].x.shape[1] for nt in data.node_types}\n",
    "model = EnhancedHAN(in_channels_dict, hidden_channels=256, out_channels=128, metadata=metadata).to(device)\n",
    "\n",
    "# Print model summary\n",
    "print(\"Model Architecture:\")\n",
    "print(model)\n",
    "total_params = sum(p.numel() for p in model.parameters())\n",
    "print(f\"Model parameters: {total_params}\")\n",
    "\n",
    "# Training setup\n",
    "pos_weight = torch.tensor([len(neg_pairs_sampled) / len(pos_pairs) if len(pos_pairs) > 0 else 1.0], dtype=torch.float).to(device)\n",
    "optimizer = torch.optim.Adam(model.parameters(), lr=0.001, weight_decay=1e-3)\n",
    "loss_fn = torch.nn.BCEWithLogitsLoss(pos_weight=pos_weight)\n",
    "scheduler = torch.optim.lr_scheduler.ReduceLROnPlateau(optimizer, mode='max', factor=0.5, patience=50)\n",
    "\n",
    "# Lists to store metrics\n",
    "train_losses = []\n",
    "val_aucs = []\n",
    "epochs_tracked = []"
   ]
  },
  {
   "cell_type": "markdown",
   "id": "7ba6541b",
   "metadata": {},
   "source": [
    "**Training and Evaluation Functions**"
   ]
  },
  {
   "cell_type": "code",
   "execution_count": 10,
   "id": "0433234a",
   "metadata": {},
   "outputs": [],
   "source": [
    "def train():\n",
    "    model.train()\n",
    "    optimizer.zero_grad()\n",
    "    drug_emb, disease_emb, _ = model(data.x_dict, data.edge_index_dict)\n",
    "    edge_index = data[\"Drug\", \"TREATS\", \"Disease\"].train_edge_index\n",
    "    pred = (drug_emb[edge_index[0]] * disease_emb[edge_index[1]]).sum(dim=1)\n",
    "    loss = loss_fn(pred, data[\"Drug\", \"TREATS\", \"Disease\"].train_edge_label)\n",
    "    loss.backward()\n",
    "    torch.nn.utils.clip_grad_norm_(model.parameters(), max_norm=1.0)\n",
    "    optimizer.step()\n",
    "    return loss.item(), pred\n",
    "\n",
    "def evaluate(split=\"val\"):\n",
    "    model.eval()\n",
    "    with torch.no_grad():\n",
    "        drug_emb, disease_emb, _ = model(data.x_dict, data.edge_index_dict)\n",
    "        edge_index = data[\"Drug\", \"TREATS\", \"Disease\"][f\"{split}_edge_index\"]\n",
    "        pred = (drug_emb[edge_index[0]] * disease_emb[edge_index[1]]).sum(dim=1)\n",
    "        preds = torch.sigmoid(pred).cpu().numpy()\n",
    "        labels = data[\"Drug\", \"TREATS\", \"Disease\"][f\"{split}_edge_label\"].cpu().numpy()\n",
    "        auc = roc_auc_score(labels, preds) if len(np.unique(labels)) > 1 else 0.5\n",
    "        if split == \"test\":\n",
    "            return auc, preds, labels\n",
    "        return auc"
   ]
  },
  {
   "cell_type": "markdown",
   "id": "93a98b1d",
   "metadata": {},
   "source": [
    "**Training Loop and Visualization**"
   ]
  },
  {
   "cell_type": "code",
   "execution_count": 11,
   "id": "b417b5af",
   "metadata": {},
   "outputs": [
    {
     "name": "stderr",
     "output_type": "stream",
     "text": [
      "Training:   1%|          | 6/500 [00:00<00:54,  8.99it/s]"
     ]
    },
    {
     "name": "stdout",
     "output_type": "stream",
     "text": [
      "Epoch 0, Loss: 0.8384, Val AUC: 0.1577\n"
     ]
    },
    {
     "name": "stderr",
     "output_type": "stream",
     "text": [
      "Training:  11%|█         | 55/500 [00:01<00:09, 47.27it/s]"
     ]
    },
    {
     "name": "stdout",
     "output_type": "stream",
     "text": [
      "Epoch 50, Loss: 0.5368, Val AUC: 0.8494\n"
     ]
    },
    {
     "name": "stderr",
     "output_type": "stream",
     "text": [
      "Training:  22%|██▏       | 110/500 [00:02<00:06, 57.30it/s]"
     ]
    },
    {
     "name": "stdout",
     "output_type": "stream",
     "text": [
      "Epoch 100, Loss: 0.4950, Val AUC: 0.8738\n"
     ]
    },
    {
     "name": "stderr",
     "output_type": "stream",
     "text": [
      "Training:  32%|███▏      | 161/500 [00:03<00:05, 58.98it/s]"
     ]
    },
    {
     "name": "stdout",
     "output_type": "stream",
     "text": [
      "Epoch 150, Loss: 0.5108, Val AUC: 0.9107\n"
     ]
    },
    {
     "name": "stderr",
     "output_type": "stream",
     "text": [
      "Training:  42%|████▏     | 209/500 [00:04<00:05, 58.20it/s]"
     ]
    },
    {
     "name": "stdout",
     "output_type": "stream",
     "text": [
      "Epoch 200, Loss: 0.4820, Val AUC: 0.9143\n"
     ]
    },
    {
     "name": "stderr",
     "output_type": "stream",
     "text": [
      "Training:  51%|█████▏    | 257/500 [00:05<00:04, 59.95it/s]"
     ]
    },
    {
     "name": "stdout",
     "output_type": "stream",
     "text": [
      "Epoch 250, Loss: 0.4479, Val AUC: 0.8845\n"
     ]
    },
    {
     "name": "stderr",
     "output_type": "stream",
     "text": [
      "Training:  60%|██████    | 300/500 [00:05<00:03, 51.60it/s]\n"
     ]
    },
    {
     "name": "stdout",
     "output_type": "stream",
     "text": [
      "Epoch 300, Loss: 0.4764, Val AUC: 0.8958\n",
      "Early stopping at epoch 300\n",
      "Test AUC: 0.8862\n"
     ]
    }
   ],
   "source": [
    "# Training loop\n",
    "best_val_auc = 0\n",
    "patience = 100\n",
    "early_stop_counter = 0\n",
    "for epoch in tqdm(range(500), desc=\"Training\"):\n",
    "    loss, _ = train()\n",
    "    train_losses.append(loss)\n",
    "    epochs_tracked.append(epoch)\n",
    "    \n",
    "    if epoch % 50 == 0:\n",
    "        val_auc = evaluate(\"val\")\n",
    "        val_aucs.append(val_auc)\n",
    "        print(f\"Epoch {epoch}, Loss: {loss:.4f}, Val AUC: {val_auc:.4f}\")\n",
    "        scheduler.step(val_auc)\n",
    "        if val_auc > best_val_auc:\n",
    "            best_val_auc = val_auc\n",
    "            torch.save({'model_state_dict': model.state_dict(), 'metadata': metadata, 'in_channels_dict': in_channels_dict}, \n",
    "                       \"han_drug_repurposing_retrained.pth\")\n",
    "            early_stop_counter = 0\n",
    "        else:\n",
    "            early_stop_counter += 50\n",
    "            if early_stop_counter >= patience:\n",
    "                print(f\"Early stopping at epoch {epoch}\")\n",
    "                break\n",
    "\n",
    "# Plot Training Loss\n",
    "plt.figure(figsize=(10, 6))\n",
    "plt.plot(epochs_tracked, train_losses, label='Training Loss')\n",
    "plt.xlabel('Epoch')\n",
    "plt.ylabel('Loss')\n",
    "plt.title('Training Loss Over Time')\n",
    "plt.legend()\n",
    "plt.grid(True)\n",
    "plt.savefig('training_loss_retrained.png')\n",
    "plt.close()\n",
    "\n",
    "# Plot Validation AUC\n",
    "plt.figure(figsize=(10, 6))\n",
    "plt.plot([e for e in range(0, len(val_aucs) * 50, 50)], val_aucs, label='Validation AUC', marker='o')\n",
    "plt.xlabel('Epoch')\n",
    "plt.ylabel('AUC')\n",
    "plt.title('Validation AUC Over Time')\n",
    "plt.legend()\n",
    "plt.grid(True)\n",
    "plt.savefig('validation_auc_retrained.png')\n",
    "plt.close()\n",
    "\n",
    "# Final evaluation with ROC curve\n",
    "test_auc, test_preds, test_labels = evaluate(\"test\")\n",
    "print(f\"Test AUC: {test_auc:.4f}\")\n",
    "\n",
    "# Plot ROC Curve\n",
    "fpr, tpr, _ = roc_curve(test_labels, test_preds)\n",
    "plt.figure(figsize=(10, 6))\n",
    "plt.plot(fpr, tpr, label=f'ROC Curve (AUC = {test_auc:.4f})')\n",
    "plt.plot([0, 1], [0, 1], 'k--', label='Random Guess')\n",
    "plt.xlabel('False Positive Rate')\n",
    "plt.ylabel('True Positive Rate')\n",
    "plt.title('ROC Curve on Test Set')\n",
    "plt.legend()\n",
    "plt.grid(True)\n",
    "plt.savefig('roc_curve_retrained.png')\n",
    "plt.close()"
   ]
  },
  {
   "cell_type": "code",
   "execution_count": 12,
   "id": "b8b3e29d",
   "metadata": {},
   "outputs": [],
   "source": [
    "# Save data\n",
    "nodes_df.to_csv(\"nodes_df_retrained.csv\", index=False)\n",
    "rels_df.to_csv(\"rels_df_retrained.csv\", index=False)\n",
    "with open('type_to_idx_retrained.pkl', 'wb') as f:\n",
    "    pickle.dump(type_to_idx, f)\n",
    "\n",
    "driver.close()"
   ]
  },
  {
   "cell_type": "code",
   "execution_count": null,
   "id": "59dba342",
   "metadata": {},
   "outputs": [],
   "source": []
  }
 ],
 "metadata": {
  "kernelspec": {
   "display_name": "env_name",
   "language": "python",
   "name": "python3"
  },
  "language_info": {
   "codemirror_mode": {
    "name": "ipython",
    "version": 3
   },
   "file_extension": ".py",
   "mimetype": "text/x-python",
   "name": "python",
   "nbconvert_exporter": "python",
   "pygments_lexer": "ipython3",
   "version": "3.11.11"
  }
 },
 "nbformat": 4,
 "nbformat_minor": 5
}
